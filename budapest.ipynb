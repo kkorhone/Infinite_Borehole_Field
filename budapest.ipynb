{
  "nbformat": 4,
  "nbformat_minor": 0,
  "metadata": {
    "colab": {
      "name": "budapest.ipynb",
      "provenance": [],
      "collapsed_sections": [],
      "authorship_tag": "ABX9TyO28OGffJe6K6CSHF9VIdPw",
      "include_colab_link": true
    },
    "kernelspec": {
      "name": "python3",
      "display_name": "Python 3"
    },
    "language_info": {
      "name": "python"
    },
    "accelerator": "GPU"
  },
  "cells": [
    {
      "cell_type": "markdown",
      "metadata": {
        "id": "view-in-github",
        "colab_type": "text"
      },
      "source": [
        "<a href=\"https://colab.research.google.com/github/kkorhone/Infinite_Borehole_Field/blob/main/budapest.ipynb\" target=\"_parent\"><img src=\"https://colab.research.google.com/assets/colab-badge.svg\" alt=\"Open In Colab\"/></a>"
      ]
    },
    {
      "cell_type": "markdown",
      "metadata": {
        "id": "VzzulnGkJbzf"
      },
      "source": [
        "# Pygfunction test\n",
        "\n",
        "This code attempts to find how much energy can be annually extracted from the ground using a 2-by-5 borehole field."
      ]
    },
    {
      "cell_type": "markdown",
      "metadata": {
        "id": "D0wzBJpgJN8v"
      },
      "source": [
        "**First, the pygfunction library needs to be installed.**"
      ]
    },
    {
      "cell_type": "code",
      "metadata": {
        "colab": {
          "base_uri": "https://localhost:8080/",
          "height": 731
        },
        "id": "_25t8ChDHZ0-",
        "outputId": "14bd14cf-1745-4c75-a0ac-10c6072218c4"
      },
      "source": [
        "pip install pygfunction"
      ],
      "execution_count": 2,
      "outputs": [
        {
          "output_type": "stream",
          "name": "stdout",
          "text": [
            "Collecting pygfunction\n",
            "  Downloading pygfunction-2.1.0-py3-none-any.whl (116 kB)\n",
            "\u001b[K     |████████████████████████████████| 116 kB 29.5 MB/s \n",
            "\u001b[?25hCollecting coolprop>=6.4.1\n",
            "  Downloading CoolProp-6.4.1-cp37-cp37m-manylinux1_x86_64.whl (4.2 MB)\n",
            "\u001b[K     |████████████████████████████████| 4.2 MB 62.5 MB/s \n",
            "\u001b[?25hCollecting scipy>=1.6.2\n",
            "  Downloading scipy-1.7.3-cp37-cp37m-manylinux_2_12_x86_64.manylinux2010_x86_64.whl (38.1 MB)\n",
            "\u001b[K     |████████████████████████████████| 38.1 MB 322 kB/s \n",
            "\u001b[?25hCollecting matplotlib>=3.3.4\n",
            "  Downloading matplotlib-3.5.1-cp37-cp37m-manylinux_2_5_x86_64.manylinux1_x86_64.whl (11.2 MB)\n",
            "\u001b[K     |████████████████████████████████| 11.2 MB 66.7 MB/s \n",
            "\u001b[?25hRequirement already satisfied: numpy>=1.20.1 in /usr/local/lib/python3.7/dist-packages (from pygfunction) (1.21.5)\n",
            "Requirement already satisfied: packaging>=20.0 in /usr/local/lib/python3.7/dist-packages (from matplotlib>=3.3.4->pygfunction) (21.3)\n",
            "Requirement already satisfied: cycler>=0.10 in /usr/local/lib/python3.7/dist-packages (from matplotlib>=3.3.4->pygfunction) (0.11.0)\n",
            "Requirement already satisfied: pyparsing>=2.2.1 in /usr/local/lib/python3.7/dist-packages (from matplotlib>=3.3.4->pygfunction) (3.0.7)\n",
            "Collecting fonttools>=4.22.0\n",
            "  Downloading fonttools-4.29.1-py3-none-any.whl (895 kB)\n",
            "\u001b[K     |████████████████████████████████| 895 kB 65.4 MB/s \n",
            "\u001b[?25hRequirement already satisfied: python-dateutil>=2.7 in /usr/local/lib/python3.7/dist-packages (from matplotlib>=3.3.4->pygfunction) (2.8.2)\n",
            "Requirement already satisfied: pillow>=6.2.0 in /usr/local/lib/python3.7/dist-packages (from matplotlib>=3.3.4->pygfunction) (7.1.2)\n",
            "Requirement already satisfied: kiwisolver>=1.0.1 in /usr/local/lib/python3.7/dist-packages (from matplotlib>=3.3.4->pygfunction) (1.3.2)\n",
            "Requirement already satisfied: six>=1.5 in /usr/local/lib/python3.7/dist-packages (from python-dateutil>=2.7->matplotlib>=3.3.4->pygfunction) (1.15.0)\n",
            "Installing collected packages: fonttools, scipy, matplotlib, coolprop, pygfunction\n",
            "  Attempting uninstall: scipy\n",
            "    Found existing installation: scipy 1.4.1\n",
            "    Uninstalling scipy-1.4.1:\n",
            "      Successfully uninstalled scipy-1.4.1\n",
            "  Attempting uninstall: matplotlib\n",
            "    Found existing installation: matplotlib 3.2.2\n",
            "    Uninstalling matplotlib-3.2.2:\n",
            "      Successfully uninstalled matplotlib-3.2.2\n",
            "\u001b[31mERROR: pip's dependency resolver does not currently take into account all the packages that are installed. This behaviour is the source of the following dependency conflicts.\n",
            "albumentations 0.1.12 requires imgaug<0.2.7,>=0.2.5, but you have imgaug 0.2.9 which is incompatible.\u001b[0m\n",
            "Successfully installed coolprop-6.4.1 fonttools-4.29.1 matplotlib-3.5.1 pygfunction-2.1.0 scipy-1.7.3\n"
          ]
        },
        {
          "output_type": "display_data",
          "data": {
            "application/vnd.colab-display-data+json": {
              "pip_warning": {
                "packages": [
                  "matplotlib",
                  "mpl_toolkits",
                  "scipy"
                ]
              }
            }
          },
          "metadata": {}
        }
      ]
    },
    {
      "cell_type": "code",
      "metadata": {
        "id": "tffzeZaLHvnj",
        "colab": {
          "base_uri": "https://localhost:8080/",
          "height": 502
        },
        "outputId": "3aeac4bf-9810-4f99-da8f-f1b088b3e5fb"
      },
      "source": [
        "import matplotlib.pyplot as plt\n",
        "import scipy.interpolate\n",
        "import scipy.optimize\n",
        "import scipy.signal\n",
        "import pygfunction\n",
        "import numpy as np\n",
        "\n",
        "def main(NB):\n",
        "\n",
        "    monthly_fraction = np.ones(12) / 12\n",
        "\n",
        "    T_surface = 5.8                         # [degC]\n",
        "    q_geothermal = 42.9e-3                  # [W/m^2]\n",
        "    \n",
        "    k_rock = 2.71                           # [W/(m*K)]\n",
        "    Cp_rock = 728.0                         # [J/(kg*K)]\n",
        "    rho_rock = 2731.0                       # [kg/m^3]\n",
        "    \n",
        "    R_borehole = 0.085                      # [K/(W/m)]\n",
        "    \n",
        "    borehole_length = 200.0                 # [m]\n",
        "    borehole_radius = 0.115 / 2             # [m]\n",
        "\n",
        "    num_years = 25                          # [1]\n",
        "\n",
        "    spf = 3.0                               # [1]\n",
        "\n",
        "    T_target = -1.0                         # [degC]\n",
        "    \n",
        "    a_rock = k_rock / (rho_rock * Cp_rock)  # [m^2/s]\n",
        "    \n",
        "    t_max = num_years * 365 * 24 * 3600.0   # [s]\n",
        "\n",
        "    delta_t = 730 * 3600.0                  # [s]\n",
        "    \n",
        "    borehole_geometry = (NB, NB)\n",
        "    borehole_spacing = (20, 20)\n",
        "    \n",
        "    T_initial = T_surface + q_geothermal / k_rock * (0.5 * borehole_length)\n",
        "    \n",
        "    ts = borehole_length**2 / (9.0 * a_rock)\n",
        "\n",
        "    borehole_field = pygfunction.boreholes.rectangle_field(N_1=borehole_geometry[0], N_2=borehole_geometry[1], B_1=borehole_spacing[0], B_2=borehole_spacing[1], H=borehole_length, D=0, r_b=borehole_radius)\n",
        "\n",
        "    total_borehole_length = borehole_geometry[0] * borehole_geometry[1] * borehole_length\n",
        "\n",
        "    t = pygfunction.utilities.time_geometric(delta_t, t_max, 50)\n",
        "    g = pygfunction.gfunction.uniform_temperature(borehole_field, t, a_rock, nSegments=1, disp=False)\n",
        "\n",
        "    ti = np.arange(delta_t, t_max+delta_t, delta_t)\n",
        "    gi = scipy.interpolate.interp1d(t, g)(ti)\n",
        "    \n",
        "    #plt.figure()\n",
        "    #plt.plot(np.log(t/ts), g, \"b.\")\n",
        "    #plt.plot(np.log(ti/ts), gi, \"r-\")\n",
        "    #plt.xlabel(\"ln(t/ts)\")\n",
        "    #plt.ylabel(\"g-function\")\n",
        "\n",
        "    def evaluate_mean_fluid_temperatures(annual_heat_load):\n",
        "\n",
        "        monthly_heat_load = annual_heat_load * monthly_fraction\n",
        "\n",
        "        heat_rate = np.ravel(np.tile(monthly_heat_load*1_000_000/730.0, (1, num_years)))\n",
        "\n",
        "        specific_heat_rate = heat_rate / total_borehole_length\n",
        "        delta_q = np.hstack((-specific_heat_rate[0], np.diff(-specific_heat_rate)))\n",
        "        \n",
        "        T_wall = T_initial + scipy.signal.fftconvolve(delta_q, gi/(2.0*np.pi*k_rock), mode=\"full\")[:len(ti)]\n",
        "        T_fluid = T_wall - R_borehole * specific_heat_rate\n",
        "        \n",
        "        return T_fluid\n",
        "    \n",
        "    def cost_function(annual_heat_load):\n",
        "\n",
        "        T_fluid = evaluate_mean_fluid_temperatures(annual_heat_load)\n",
        "\n",
        "        return np.abs(np.min(T_fluid) - T_target)\n",
        "    \n",
        "    annual_heat_load = scipy.optimize.fminbound(cost_function, 1, 100000, xtol=0.001)\n",
        "    \n",
        "    T_fluid = evaluate_mean_fluid_temperatures(annual_heat_load)\n",
        "    \n",
        "    #plt.figure()\n",
        "    #plt.plot(ti/(365*24*3600), T_fluid)\n",
        "    #plt.axhline(T_target, ls=\"--\", color=\"k\")\n",
        "    #plt.xlabel(\"Year\")\n",
        "    #plt.ylabel(u\"Mean fluid temperature [\\xb0C]\")\n",
        "    #plt.title(f\"annual_heat_load = {spf/(spf-1)*annual_heat_load:.3f} MWh\")\n",
        "\n",
        "    print(borehole_geometry[0]*borehole_geometry[1], spf/(spf-1)*annual_heat_load)\n",
        "\n",
        "if __name__ == \"__main__\":\n",
        "\n",
        "    for NB in [41, 42, 43, 44, 45, 46, 47, 48, 49, 51, 52, 53, 54, 55, 56, 57, 58, 59]:\n",
        "        main(NB)\n"
      ],
      "execution_count": 1,
      "outputs": [
        {
          "output_type": "stream",
          "name": "stdout",
          "text": [
            "1681 33465.24797155367\n",
            "1764 35080.365231082425\n",
            "1849 36733.54174398829\n",
            "1936 38424.77635054577\n",
            "2025 40154.06835009765\n",
            "2116 41921.41945276313\n",
            "2209 43726.82949226787\n",
            "2304 45570.2967229286\n",
            "2401 47451.82375298014\n"
          ]
        },
        {
          "output_type": "error",
          "ename": "KeyboardInterrupt",
          "evalue": "ignored",
          "traceback": [
            "\u001b[0;31m---------------------------------------------------------------------------\u001b[0m",
            "\u001b[0;31mKeyboardInterrupt\u001b[0m                         Traceback (most recent call last)",
            "\u001b[0;32m<ipython-input-1-183f2aaf6c6c>\u001b[0m in \u001b[0;36m<module>\u001b[0;34m()\u001b[0m\n\u001b[1;32m     93\u001b[0m \u001b[0;34m\u001b[0m\u001b[0m\n\u001b[1;32m     94\u001b[0m     \u001b[0;32mfor\u001b[0m \u001b[0mNB\u001b[0m \u001b[0;32min\u001b[0m \u001b[0;34m[\u001b[0m\u001b[0;36m41\u001b[0m\u001b[0;34m,\u001b[0m \u001b[0;36m42\u001b[0m\u001b[0;34m,\u001b[0m \u001b[0;36m43\u001b[0m\u001b[0;34m,\u001b[0m \u001b[0;36m44\u001b[0m\u001b[0;34m,\u001b[0m \u001b[0;36m45\u001b[0m\u001b[0;34m,\u001b[0m \u001b[0;36m46\u001b[0m\u001b[0;34m,\u001b[0m \u001b[0;36m47\u001b[0m\u001b[0;34m,\u001b[0m \u001b[0;36m48\u001b[0m\u001b[0;34m,\u001b[0m \u001b[0;36m49\u001b[0m\u001b[0;34m,\u001b[0m \u001b[0;36m51\u001b[0m\u001b[0;34m,\u001b[0m \u001b[0;36m52\u001b[0m\u001b[0;34m,\u001b[0m \u001b[0;36m53\u001b[0m\u001b[0;34m,\u001b[0m \u001b[0;36m54\u001b[0m\u001b[0;34m,\u001b[0m \u001b[0;36m55\u001b[0m\u001b[0;34m,\u001b[0m \u001b[0;36m56\u001b[0m\u001b[0;34m,\u001b[0m \u001b[0;36m57\u001b[0m\u001b[0;34m,\u001b[0m \u001b[0;36m58\u001b[0m\u001b[0;34m,\u001b[0m \u001b[0;36m59\u001b[0m\u001b[0;34m]\u001b[0m\u001b[0;34m:\u001b[0m\u001b[0;34m\u001b[0m\u001b[0;34m\u001b[0m\u001b[0m\n\u001b[0;32m---> 95\u001b[0;31m         \u001b[0mmain\u001b[0m\u001b[0;34m(\u001b[0m\u001b[0mNB\u001b[0m\u001b[0;34m)\u001b[0m\u001b[0;34m\u001b[0m\u001b[0;34m\u001b[0m\u001b[0m\n\u001b[0m",
            "\u001b[0;32m<ipython-input-1-183f2aaf6c6c>\u001b[0m in \u001b[0;36mmain\u001b[0;34m(NB)\u001b[0m\n\u001b[1;32m     46\u001b[0m \u001b[0;34m\u001b[0m\u001b[0m\n\u001b[1;32m     47\u001b[0m     \u001b[0mt\u001b[0m \u001b[0;34m=\u001b[0m \u001b[0mpygfunction\u001b[0m\u001b[0;34m.\u001b[0m\u001b[0mutilities\u001b[0m\u001b[0;34m.\u001b[0m\u001b[0mtime_geometric\u001b[0m\u001b[0;34m(\u001b[0m\u001b[0mdelta_t\u001b[0m\u001b[0;34m,\u001b[0m \u001b[0mt_max\u001b[0m\u001b[0;34m,\u001b[0m \u001b[0;36m50\u001b[0m\u001b[0;34m)\u001b[0m\u001b[0;34m\u001b[0m\u001b[0;34m\u001b[0m\u001b[0m\n\u001b[0;32m---> 48\u001b[0;31m     \u001b[0mg\u001b[0m \u001b[0;34m=\u001b[0m \u001b[0mpygfunction\u001b[0m\u001b[0;34m.\u001b[0m\u001b[0mgfunction\u001b[0m\u001b[0;34m.\u001b[0m\u001b[0muniform_temperature\u001b[0m\u001b[0;34m(\u001b[0m\u001b[0mborehole_field\u001b[0m\u001b[0;34m,\u001b[0m \u001b[0mt\u001b[0m\u001b[0;34m,\u001b[0m \u001b[0ma_rock\u001b[0m\u001b[0;34m,\u001b[0m \u001b[0mnSegments\u001b[0m\u001b[0;34m=\u001b[0m\u001b[0;36m1\u001b[0m\u001b[0;34m,\u001b[0m \u001b[0mdisp\u001b[0m\u001b[0;34m=\u001b[0m\u001b[0;32mFalse\u001b[0m\u001b[0;34m)\u001b[0m\u001b[0;34m\u001b[0m\u001b[0;34m\u001b[0m\u001b[0m\n\u001b[0m\u001b[1;32m     49\u001b[0m \u001b[0;34m\u001b[0m\u001b[0m\n\u001b[1;32m     50\u001b[0m     \u001b[0mti\u001b[0m \u001b[0;34m=\u001b[0m \u001b[0mnp\u001b[0m\u001b[0;34m.\u001b[0m\u001b[0marange\u001b[0m\u001b[0;34m(\u001b[0m\u001b[0mdelta_t\u001b[0m\u001b[0;34m,\u001b[0m \u001b[0mt_max\u001b[0m\u001b[0;34m+\u001b[0m\u001b[0mdelta_t\u001b[0m\u001b[0;34m,\u001b[0m \u001b[0mdelta_t\u001b[0m\u001b[0;34m)\u001b[0m\u001b[0;34m\u001b[0m\u001b[0;34m\u001b[0m\u001b[0m\n",
            "\u001b[0;32m/usr/local/lib/python3.7/dist-packages/pygfunction/gfunction.py\u001b[0m in \u001b[0;36muniform_temperature\u001b[0;34m(boreholes, time, alpha, nSegments, segment_ratios, kind, use_similarities, disTol, tol, dtype, disp, **kwargs)\u001b[0m\n\u001b[1;32m   1014\u001b[0m     gFunc = gFunction(\n\u001b[1;32m   1015\u001b[0m         \u001b[0mboreholes\u001b[0m\u001b[0;34m,\u001b[0m \u001b[0malpha\u001b[0m\u001b[0;34m,\u001b[0m \u001b[0mtime\u001b[0m\u001b[0;34m=\u001b[0m\u001b[0mtime\u001b[0m\u001b[0;34m,\u001b[0m \u001b[0mmethod\u001b[0m\u001b[0;34m=\u001b[0m\u001b[0mmethod\u001b[0m\u001b[0;34m,\u001b[0m\u001b[0;34m\u001b[0m\u001b[0;34m\u001b[0m\u001b[0m\n\u001b[0;32m-> 1016\u001b[0;31m         boundary_condition=boundary_condition, options=options)\n\u001b[0m\u001b[1;32m   1017\u001b[0m \u001b[0;34m\u001b[0m\u001b[0m\n\u001b[1;32m   1018\u001b[0m     \u001b[0;32mreturn\u001b[0m \u001b[0mgFunc\u001b[0m\u001b[0;34m.\u001b[0m\u001b[0mgFunc\u001b[0m\u001b[0;34m\u001b[0m\u001b[0;34m\u001b[0m\u001b[0m\n",
            "\u001b[0;32m/usr/local/lib/python3.7/dist-packages/pygfunction/gfunction.py\u001b[0m in \u001b[0;36m__init__\u001b[0;34m(self, boreholes_or_network, alpha, time, method, boundary_condition, options)\u001b[0m\n\u001b[1;32m    192\u001b[0m             self.solver = _Similarities(\n\u001b[1;32m    193\u001b[0m                 \u001b[0mself\u001b[0m\u001b[0;34m.\u001b[0m\u001b[0mboreholes\u001b[0m\u001b[0;34m,\u001b[0m \u001b[0mself\u001b[0m\u001b[0;34m.\u001b[0m\u001b[0mnetwork\u001b[0m\u001b[0;34m,\u001b[0m \u001b[0mself\u001b[0m\u001b[0;34m.\u001b[0m\u001b[0mtime\u001b[0m\u001b[0;34m,\u001b[0m\u001b[0;34m\u001b[0m\u001b[0;34m\u001b[0m\u001b[0m\n\u001b[0;32m--> 194\u001b[0;31m                 self.boundary_condition, **self.options)\n\u001b[0m\u001b[1;32m    195\u001b[0m         \u001b[0;32melif\u001b[0m \u001b[0mself\u001b[0m\u001b[0;34m.\u001b[0m\u001b[0mmethod\u001b[0m\u001b[0;34m.\u001b[0m\u001b[0mlower\u001b[0m\u001b[0;34m(\u001b[0m\u001b[0;34m)\u001b[0m\u001b[0;34m==\u001b[0m\u001b[0;34m'detailed'\u001b[0m\u001b[0;34m:\u001b[0m\u001b[0;34m\u001b[0m\u001b[0;34m\u001b[0m\u001b[0m\n\u001b[1;32m    196\u001b[0m             self.solver = _Detailed(\n",
            "\u001b[0;32m/usr/local/lib/python3.7/dist-packages/pygfunction/gfunction.py\u001b[0m in \u001b[0;36m__init__\u001b[0;34m(self, boreholes, network, time, boundary_condition, nSegments, segment_ratios, disp, profiles, kind, dtype, **other_options)\u001b[0m\n\u001b[1;32m   1353\u001b[0m         \u001b[0mself\u001b[0m\u001b[0;34m.\u001b[0m\u001b[0m_check_inputs\u001b[0m\u001b[0;34m(\u001b[0m\u001b[0;34m)\u001b[0m\u001b[0;34m\u001b[0m\u001b[0;34m\u001b[0m\u001b[0m\n\u001b[1;32m   1354\u001b[0m         \u001b[0;31m# Initialize the solver with solver-specific options\u001b[0m\u001b[0;34m\u001b[0m\u001b[0;34m\u001b[0m\u001b[0;34m\u001b[0m\u001b[0m\n\u001b[0;32m-> 1355\u001b[0;31m         \u001b[0mself\u001b[0m\u001b[0;34m.\u001b[0m\u001b[0mnSources\u001b[0m \u001b[0;34m=\u001b[0m \u001b[0mself\u001b[0m\u001b[0;34m.\u001b[0m\u001b[0minitialize\u001b[0m\u001b[0;34m(\u001b[0m\u001b[0;34m**\u001b[0m\u001b[0mother_options\u001b[0m\u001b[0;34m)\u001b[0m\u001b[0;34m\u001b[0m\u001b[0;34m\u001b[0m\u001b[0m\n\u001b[0m\u001b[1;32m   1356\u001b[0m \u001b[0;34m\u001b[0m\u001b[0m\n\u001b[1;32m   1357\u001b[0m         \u001b[0;32mreturn\u001b[0m\u001b[0;34m\u001b[0m\u001b[0;34m\u001b[0m\u001b[0m\n",
            "\u001b[0;32m/usr/local/lib/python3.7/dist-packages/pygfunction/gfunction.py\u001b[0m in \u001b[0;36minitialize\u001b[0;34m(self, disTol, tol, **kwargs)\u001b[0m\n\u001b[1;32m   2012\u001b[0m         \u001b[0mself\u001b[0m\u001b[0;34m.\u001b[0m\u001b[0mboreSegments\u001b[0m \u001b[0;34m=\u001b[0m \u001b[0mself\u001b[0m\u001b[0;34m.\u001b[0m\u001b[0mborehole_segments\u001b[0m\u001b[0;34m(\u001b[0m\u001b[0;34m)\u001b[0m\u001b[0;34m\u001b[0m\u001b[0;34m\u001b[0m\u001b[0m\n\u001b[1;32m   2013\u001b[0m         \u001b[0;31m# Initialize similarities\u001b[0m\u001b[0;34m\u001b[0m\u001b[0;34m\u001b[0m\u001b[0;34m\u001b[0m\u001b[0m\n\u001b[0;32m-> 2014\u001b[0;31m         \u001b[0mself\u001b[0m\u001b[0;34m.\u001b[0m\u001b[0mfind_similarities\u001b[0m\u001b[0;34m(\u001b[0m\u001b[0;34m)\u001b[0m\u001b[0;34m\u001b[0m\u001b[0;34m\u001b[0m\u001b[0m\n\u001b[0m\u001b[1;32m   2015\u001b[0m         \u001b[0;32mreturn\u001b[0m \u001b[0mlen\u001b[0m\u001b[0;34m(\u001b[0m\u001b[0mself\u001b[0m\u001b[0;34m.\u001b[0m\u001b[0mboreSegments\u001b[0m\u001b[0;34m)\u001b[0m\u001b[0;34m\u001b[0m\u001b[0;34m\u001b[0m\u001b[0m\n\u001b[1;32m   2016\u001b[0m \u001b[0;34m\u001b[0m\u001b[0m\n",
            "\u001b[0;32m/usr/local/lib/python3.7/dist-packages/pygfunction/gfunction.py\u001b[0m in \u001b[0;36mfind_similarities\u001b[0;34m(self)\u001b[0m\n\u001b[1;32m   2145\u001b[0m         \u001b[0mself\u001b[0m\u001b[0;34m.\u001b[0m\u001b[0mborehole_to_borehole_distances\u001b[0m\u001b[0;34m,\u001b[0m \u001b[0mself\u001b[0m\u001b[0;34m.\u001b[0m\u001b[0mborehole_to_borehole_indices\u001b[0m \u001b[0;34m=\u001b[0m\u001b[0;31m \u001b[0m\u001b[0;31m\\\u001b[0m\u001b[0;34m\u001b[0m\u001b[0;34m\u001b[0m\u001b[0m\n\u001b[1;32m   2146\u001b[0m             self._find_distances(\n\u001b[0;32m-> 2147\u001b[0;31m                 self.boreholes, self.borehole_to_borehole)\n\u001b[0m\u001b[1;32m   2148\u001b[0m \u001b[0;34m\u001b[0m\u001b[0m\n\u001b[1;32m   2149\u001b[0m         \u001b[0;31m# Stop chrono\u001b[0m\u001b[0;34m\u001b[0m\u001b[0;34m\u001b[0m\u001b[0;34m\u001b[0m\u001b[0m\n",
            "\u001b[0;32m/usr/local/lib/python3.7/dist-packages/pygfunction/gfunction.py\u001b[0m in \u001b[0;36m_find_distances\u001b[0;34m(self, boreholes, borehole_to_borehole)\u001b[0m\n\u001b[1;32m   2384\u001b[0m             \u001b[0;31m# Array of all borehole-to-borehole distances within the group\u001b[0m\u001b[0;34m\u001b[0m\u001b[0;34m\u001b[0m\u001b[0;34m\u001b[0m\u001b[0m\n\u001b[1;32m   2385\u001b[0m             all_distances = np.array(\n\u001b[0;32m-> 2386\u001b[0;31m                 [boreholes[pair[0]].distance(boreholes[pair[1]]) for pair in pairs])\n\u001b[0m\u001b[1;32m   2387\u001b[0m             \u001b[0;31m# Indices to sort the distance array\u001b[0m\u001b[0;34m\u001b[0m\u001b[0;34m\u001b[0m\u001b[0;34m\u001b[0m\u001b[0m\n\u001b[1;32m   2388\u001b[0m             \u001b[0mi_sort\u001b[0m \u001b[0;34m=\u001b[0m \u001b[0mall_distances\u001b[0m\u001b[0;34m.\u001b[0m\u001b[0margsort\u001b[0m\u001b[0;34m(\u001b[0m\u001b[0;34m)\u001b[0m\u001b[0;34m\u001b[0m\u001b[0;34m\u001b[0m\u001b[0m\n",
            "\u001b[0;32m/usr/local/lib/python3.7/dist-packages/pygfunction/gfunction.py\u001b[0m in \u001b[0;36m<listcomp>\u001b[0;34m(.0)\u001b[0m\n\u001b[1;32m   2384\u001b[0m             \u001b[0;31m# Array of all borehole-to-borehole distances within the group\u001b[0m\u001b[0;34m\u001b[0m\u001b[0;34m\u001b[0m\u001b[0;34m\u001b[0m\u001b[0m\n\u001b[1;32m   2385\u001b[0m             all_distances = np.array(\n\u001b[0;32m-> 2386\u001b[0;31m                 [boreholes[pair[0]].distance(boreholes[pair[1]]) for pair in pairs])\n\u001b[0m\u001b[1;32m   2387\u001b[0m             \u001b[0;31m# Indices to sort the distance array\u001b[0m\u001b[0;34m\u001b[0m\u001b[0;34m\u001b[0m\u001b[0;34m\u001b[0m\u001b[0m\n\u001b[1;32m   2388\u001b[0m             \u001b[0mi_sort\u001b[0m \u001b[0;34m=\u001b[0m \u001b[0mall_distances\u001b[0m\u001b[0;34m.\u001b[0m\u001b[0margsort\u001b[0m\u001b[0;34m(\u001b[0m\u001b[0;34m)\u001b[0m\u001b[0;34m\u001b[0m\u001b[0;34m\u001b[0m\u001b[0m\n",
            "\u001b[0;32m/usr/local/lib/python3.7/dist-packages/pygfunction/boreholes.py\u001b[0m in \u001b[0;36mdistance\u001b[0;34m(self, target)\u001b[0m\n\u001b[1;32m     73\u001b[0m         \"\"\"\n\u001b[1;32m     74\u001b[0m         dis = max(self.r_b,\n\u001b[0;32m---> 75\u001b[0;31m                   np.sqrt((self.x - target.x)**2 + (self.y - target.y)**2))\n\u001b[0m\u001b[1;32m     76\u001b[0m         \u001b[0;32mreturn\u001b[0m \u001b[0mdis\u001b[0m\u001b[0;34m\u001b[0m\u001b[0;34m\u001b[0m\u001b[0m\n\u001b[1;32m     77\u001b[0m \u001b[0;34m\u001b[0m\u001b[0m\n",
            "\u001b[0;31mKeyboardInterrupt\u001b[0m: "
          ]
        }
      ]
    }
  ]
}